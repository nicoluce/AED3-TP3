{
 "cells": [
  {
   "cell_type": "code",
   "execution_count": 48,
   "metadata": {
    "collapsed": false
   },
   "outputs": [],
   "source": [
    "%matplotlib inline\n",
    "import pandas as pd\n",
    "import matplotlib.pyplot as plt\n",
    "\n",
    "ejercicio1 = pd.read_csv('asd.csv')"
   ]
  },
  {
   "cell_type": "code",
   "execution_count": 49,
   "metadata": {
    "collapsed": false
   },
   "outputs": [
    {
     "data": {
      "text/html": [
       "<div style=\"max-height:1000px;max-width:1500px;overflow:auto;\">\n",
       "<table border=\"1\" class=\"dataframe\">\n",
       "  <thead>\n",
       "    <tr style=\"text-align: right;\">\n",
       "      <th></th>\n",
       "      <th>Unnamed: 0</th>\n",
       "      <th>Tiempo</th>\n",
       "      <th>Nodos</th>\n",
       "      <th>Gimnasios</th>\n",
       "      <th>Pokeparadas</th>\n",
       "      <th>Mochila</th>\n",
       "      <th>Distancia</th>\n",
       "      <th>Aristas</th>\n",
       "      <th>Recursiones</th>\n",
       "      <th>Podas</th>\n",
       "      <th>Soluciones</th>\n",
       "    </tr>\n",
       "  </thead>\n",
       "  <tbody>\n",
       "    <tr>\n",
       "      <th>0</th>\n",
       "      <td> 0</td>\n",
       "      <td> 17556227</td>\n",
       "      <td> 9</td>\n",
       "      <td> 4</td>\n",
       "      <td> 5</td>\n",
       "      <td> 6</td>\n",
       "      <td> 27.07</td>\n",
       "      <td> 7</td>\n",
       "      <td> 21570</td>\n",
       "      <td> 12453</td>\n",
       "      <td> 15</td>\n",
       "    </tr>\n",
       "    <tr>\n",
       "      <th>1</th>\n",
       "      <td> 1</td>\n",
       "      <td> 16353185</td>\n",
       "      <td> 9</td>\n",
       "      <td> 4</td>\n",
       "      <td> 5</td>\n",
       "      <td> 6</td>\n",
       "      <td> 27.07</td>\n",
       "      <td> 7</td>\n",
       "      <td> 21570</td>\n",
       "      <td> 12453</td>\n",
       "      <td> 15</td>\n",
       "    </tr>\n",
       "    <tr>\n",
       "      <th>2</th>\n",
       "      <td> 2</td>\n",
       "      <td> 15573079</td>\n",
       "      <td> 9</td>\n",
       "      <td> 4</td>\n",
       "      <td> 5</td>\n",
       "      <td> 6</td>\n",
       "      <td> 27.07</td>\n",
       "      <td> 7</td>\n",
       "      <td> 21570</td>\n",
       "      <td> 12453</td>\n",
       "      <td> 15</td>\n",
       "    </tr>\n",
       "    <tr>\n",
       "      <th>3</th>\n",
       "      <td> 3</td>\n",
       "      <td> 15633578</td>\n",
       "      <td> 9</td>\n",
       "      <td> 4</td>\n",
       "      <td> 5</td>\n",
       "      <td> 6</td>\n",
       "      <td> 27.07</td>\n",
       "      <td> 7</td>\n",
       "      <td> 21570</td>\n",
       "      <td> 12453</td>\n",
       "      <td> 15</td>\n",
       "    </tr>\n",
       "    <tr>\n",
       "      <th>4</th>\n",
       "      <td> 4</td>\n",
       "      <td> 15429977</td>\n",
       "      <td> 9</td>\n",
       "      <td> 4</td>\n",
       "      <td> 5</td>\n",
       "      <td> 6</td>\n",
       "      <td> 27.07</td>\n",
       "      <td> 7</td>\n",
       "      <td> 21570</td>\n",
       "      <td> 12453</td>\n",
       "      <td> 15</td>\n",
       "    </tr>\n",
       "  </tbody>\n",
       "</table>\n",
       "<p>5 rows × 11 columns</p>\n",
       "</div>"
      ],
      "text/plain": [
       "   Unnamed: 0    Tiempo  Nodos  Gimnasios  Pokeparadas  Mochila  Distancia  \\\n",
       "0           0  17556227      9          4            5        6      27.07   \n",
       "1           1  16353185      9          4            5        6      27.07   \n",
       "2           2  15573079      9          4            5        6      27.07   \n",
       "3           3  15633578      9          4            5        6      27.07   \n",
       "4           4  15429977      9          4            5        6      27.07   \n",
       "\n",
       "   Aristas  Recursiones  Podas  Soluciones  \n",
       "0        7        21570  12453          15  \n",
       "1        7        21570  12453          15  \n",
       "2        7        21570  12453          15  \n",
       "3        7        21570  12453          15  \n",
       "4        7        21570  12453          15  \n",
       "\n",
       "[5 rows x 11 columns]"
      ]
     },
     "execution_count": 49,
     "metadata": {},
     "output_type": "execute_result"
    }
   ],
   "source": [
    "ejercicio1.head()"
   ]
  },
  {
   "cell_type": "code",
   "execution_count": 53,
   "metadata": {
    "collapsed": false,
    "scrolled": false,
    "slideshow": {
     "slide_type": "-"
    }
   },
   "outputs": [
    {
     "data": {
      "text/plain": [
       "<matplotlib.axes.AxesSubplot at 0x7f700af830d0>"
      ]
     },
     "execution_count": 53,
     "metadata": {},
     "output_type": "execute_result"
    },
    {
     "data": {
      "image/png": "[encoded data removed]",
      "text/plain": [
       "<matplotlib.figure.Figure at 0x7f700af0d510>"
      ]
     },
     "metadata": {},
     "output_type": "display_data"
    }
   ],
   "source": [
    "tiempos = ejercicio1.groupby('Unnamed: 0').mean().sort('Tiempo')\n",
    "# tiempos\n",
    "# tiempos['Tiempo'].plot(kind=\"bar\")"
   ]
  },
  {
   "cell_type": "code",
   "execution_count": null,
   "metadata": {
    "collapsed": true
   },
   "outputs": [],
   "source": []
  }
 ],
 "metadata": {
  "kernelspec": {
   "display_name": "Python 2",
   "language": "python",
   "name": "python2"
  },
  "language_info": {
   "codemirror_mode": {
    "name": "ipython",
    "version": 2
   },
   "file_extension": ".py",
   "mimetype": "text/x-python",
   "name": "python",
   "nbconvert_exporter": "python",
   "pygments_lexer": "ipython2",
   "version": "2.7.6"
  }
 },
 "nbformat": 4,
 "nbformat_minor": 1
}
