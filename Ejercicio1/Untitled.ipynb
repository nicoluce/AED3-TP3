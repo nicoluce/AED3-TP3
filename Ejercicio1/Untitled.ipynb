{
 "cells": [
  {
   "cell_type": "code",
   "execution_count": 9,
   "metadata": {
    "collapsed": false
   },
   "outputs": [
    {
     "data": {
      "text/html": [
       "<div style=\"max-height:1000px;max-width:1500px;overflow:auto;\">\n",
       "<table border=\"1\" class=\"dataframe\">\n",
       "  <thead>\n",
       "    <tr style=\"text-align: right;\">\n",
       "      <th></th>\n",
       "      <th>Aristas</th>\n",
       "      <th>Distancia</th>\n",
       "      <th>Gimnasios</th>\n",
       "      <th>Mochila</th>\n",
       "      <th>Podas</th>\n",
       "      <th>Pokeparadas</th>\n",
       "      <th>Recursiones</th>\n",
       "      <th>Soluciones</th>\n",
       "      <th>Tiempo</th>\n",
       "    </tr>\n",
       "    <tr>\n",
       "      <th>Nodos</th>\n",
       "      <th></th>\n",
       "      <th></th>\n",
       "      <th></th>\n",
       "      <th></th>\n",
       "      <th></th>\n",
       "      <th></th>\n",
       "      <th></th>\n",
       "      <th></th>\n",
       "      <th></th>\n",
       "    </tr>\n",
       "  </thead>\n",
       "  <tbody>\n",
       "    <tr>\n",
       "      <th>14</th>\n",
       "      <td> 14</td>\n",
       "      <td> 120</td>\n",
       "      <td> 4</td>\n",
       "      <td> 100</td>\n",
       "      <td> 41475709</td>\n",
       "      <td> 10</td>\n",
       "      <td> 52073064</td>\n",
       "      <td> 56</td>\n",
       "      <td> 4251330719</td>\n",
       "    </tr>\n",
       "  </tbody>\n",
       "</table>\n",
       "<p>1 rows × 9 columns</p>\n",
       "</div>"
      ],
      "text/plain": [
       "       Aristas  Distancia  Gimnasios  Mochila     Podas  Pokeparadas  \\\n",
       "Nodos                                                                  \n",
       "14          14        120          4      100  41475709           10   \n",
       "\n",
       "       Recursiones  Soluciones      Tiempo  \n",
       "Nodos                                       \n",
       "14        52073064          56  4251330719  \n",
       "\n",
       "[1 rows x 9 columns]"
      ]
     },
     "execution_count": 9,
     "metadata": {},
     "output_type": "execute_result"
    }
   ],
   "source": [
    "%matplotlib inline\n",
    "import pandas as pd\n",
    "import matplotlib.pyplot as plt\n",
    "\n",
    "cnst = pd.read_csv('dataset_1_constante').groupby('Nodos').mean()\n",
    "lineal = pd.read_csv('dataset_1_lineal').groupby('Nodos').mean()\n",
    "cuad = pd.read_csv('dataset_1_cuadratico').groupby('Nodos').mean()\n",
    "\n",
    "cnst"
   ]
  },
  {
   "cell_type": "code",
   "execution_count": 6,
   "metadata": {
    "collapsed": false
   },
   "outputs": [
    {
     "data": {
      "text/html": [
       "<div style=\"max-height:1000px;max-width:1500px;overflow:auto;\">\n",
       "<table border=\"1\" class=\"dataframe\">\n",
       "  <thead>\n",
       "    <tr style=\"text-align: right;\">\n",
       "      <th></th>\n",
       "      <th>Aristas</th>\n",
       "      <th>Distancia</th>\n",
       "      <th>Gimnasios</th>\n",
       "      <th>Mochila</th>\n",
       "      <th>Podas</th>\n",
       "      <th>Pokeparadas</th>\n",
       "      <th>Recursiones</th>\n",
       "      <th>Soluciones</th>\n",
       "      <th>Tiempo</th>\n",
       "    </tr>\n",
       "    <tr>\n",
       "      <th>Nodos</th>\n",
       "      <th></th>\n",
       "      <th></th>\n",
       "      <th></th>\n",
       "      <th></th>\n",
       "      <th></th>\n",
       "      <th></th>\n",
       "      <th></th>\n",
       "      <th></th>\n",
       "      <th></th>\n",
       "    </tr>\n",
       "  </thead>\n",
       "  <tbody>\n",
       "    <tr>\n",
       "      <th>14</th>\n",
       "      <td> 14</td>\n",
       "      <td> 120</td>\n",
       "      <td> 4</td>\n",
       "      <td> 100</td>\n",
       "      <td> 36248892</td>\n",
       "      <td> 10</td>\n",
       "      <td> 45847431</td>\n",
       "      <td> 59</td>\n",
       "      <td> 3816693639</td>\n",
       "    </tr>\n",
       "  </tbody>\n",
       "</table>\n",
       "<p>1 rows × 9 columns</p>\n",
       "</div>"
      ],
      "text/plain": [
       "       Aristas  Distancia  Gimnasios  Mochila     Podas  Pokeparadas  \\\n",
       "Nodos                                                                  \n",
       "14          14        120          4      100  36248892           10   \n",
       "\n",
       "       Recursiones  Soluciones      Tiempo  \n",
       "Nodos                                       \n",
       "14        45847431          59  3816693639  \n",
       "\n",
       "[1 rows x 9 columns]"
      ]
     },
     "execution_count": 6,
     "metadata": {},
     "output_type": "execute_result"
    }
   ],
   "source": [
    "lineal"
   ]
  },
  {
   "cell_type": "code",
   "execution_count": 7,
   "metadata": {
    "collapsed": false
   },
   "outputs": [
    {
     "data": {
      "text/html": [
       "<div style=\"max-height:1000px;max-width:1500px;overflow:auto;\">\n",
       "<table border=\"1\" class=\"dataframe\">\n",
       "  <thead>\n",
       "    <tr style=\"text-align: right;\">\n",
       "      <th></th>\n",
       "      <th>Aristas</th>\n",
       "      <th>Distancia</th>\n",
       "      <th>Gimnasios</th>\n",
       "      <th>Mochila</th>\n",
       "      <th>Podas</th>\n",
       "      <th>Pokeparadas</th>\n",
       "      <th>Recursiones</th>\n",
       "      <th>Soluciones</th>\n",
       "      <th>Tiempo</th>\n",
       "    </tr>\n",
       "    <tr>\n",
       "      <th>Nodos</th>\n",
       "      <th></th>\n",
       "      <th></th>\n",
       "      <th></th>\n",
       "      <th></th>\n",
       "      <th></th>\n",
       "      <th></th>\n",
       "      <th></th>\n",
       "      <th></th>\n",
       "      <th></th>\n",
       "    </tr>\n",
       "  </thead>\n",
       "  <tbody>\n",
       "    <tr>\n",
       "      <th>14</th>\n",
       "      <td> 14</td>\n",
       "      <td> 125</td>\n",
       "      <td> 4</td>\n",
       "      <td> 100</td>\n",
       "      <td> 38387003</td>\n",
       "      <td> 10</td>\n",
       "      <td> 48683624</td>\n",
       "      <td> 54</td>\n",
       "      <td> 4032643892</td>\n",
       "    </tr>\n",
       "  </tbody>\n",
       "</table>\n",
       "<p>1 rows × 9 columns</p>\n",
       "</div>"
      ],
      "text/plain": [
       "       Aristas  Distancia  Gimnasios  Mochila     Podas  Pokeparadas  \\\n",
       "Nodos                                                                  \n",
       "14          14        125          4      100  38387003           10   \n",
       "\n",
       "       Recursiones  Soluciones      Tiempo  \n",
       "Nodos                                       \n",
       "14        48683624          54  4032643892  \n",
       "\n",
       "[1 rows x 9 columns]"
      ]
     },
     "execution_count": 7,
     "metadata": {},
     "output_type": "execute_result"
    }
   ],
   "source": [
    "cuad"
   ]
  }
 ],
 "metadata": {
  "kernelspec": {
   "display_name": "Python 2",
   "language": "python",
   "name": "python2"
  },
  "language_info": {
   "codemirror_mode": {
    "name": "ipython",
    "version": 2
   },
   "file_extension": ".py",
   "mimetype": "text/x-python",
   "name": "python",
   "nbconvert_exporter": "python",
   "pygments_lexer": "ipython2",
   "version": "2.7.6"
  }
 },
 "nbformat": 4,
 "nbformat_minor": 1
}
