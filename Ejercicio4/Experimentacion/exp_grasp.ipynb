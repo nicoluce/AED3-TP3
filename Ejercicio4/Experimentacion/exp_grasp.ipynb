{
 "cells": [
  {
   "cell_type": "code",
   "execution_count": 2,
   "metadata": {
    "collapsed": false
   },
   "outputs": [],
   "source": [
    "import pandas as pd\n",
    "import matplotlib.pyplot as plt\n",
    "import random\n",
    "import seaborn as sns\n",
    "\n",
    "df = pd.read_csv('salida.csv')\n",
    "\n",
    "%matplotlib inline"
   ]
  },
  {
   "cell_type": "code",
   "execution_count": 3,
   "metadata": {
    "collapsed": false
   },
   "outputs": [
    {
     "data": {
      "text/html": [
       "<div>\n",
       "<table border=\"1\" class=\"dataframe\">\n",
       "  <thead>\n",
       "    <tr style=\"text-align: right;\">\n",
       "      <th></th>\n",
       "      <th>gimnasios</th>\n",
       "      <th>pokeparadas</th>\n",
       "      <th>mochila</th>\n",
       "      <th>tiempo</th>\n",
       "      <th>distancia_original</th>\n",
       "      <th>distancia_final</th>\n",
       "      <th>cantidad_de_mejoras</th>\n",
       "      <th>iteraciones</th>\n",
       "      <th>gim_sacados</th>\n",
       "    </tr>\n",
       "  </thead>\n",
       "  <tbody>\n",
       "    <tr>\n",
       "      <th>0</th>\n",
       "      <td>10</td>\n",
       "      <td>20</td>\n",
       "      <td>5</td>\n",
       "      <td>1002000.0</td>\n",
       "      <td>5928.23</td>\n",
       "      <td>5928.23</td>\n",
       "      <td>0</td>\n",
       "      <td>5</td>\n",
       "      <td>5</td>\n",
       "    </tr>\n",
       "    <tr>\n",
       "      <th>1</th>\n",
       "      <td>10</td>\n",
       "      <td>22</td>\n",
       "      <td>5</td>\n",
       "      <td>1289000.0</td>\n",
       "      <td>7332.09</td>\n",
       "      <td>5275.76</td>\n",
       "      <td>1</td>\n",
       "      <td>5</td>\n",
       "      <td>5</td>\n",
       "    </tr>\n",
       "  </tbody>\n",
       "</table>\n",
       "</div>"
      ],
      "text/plain": [
       "   gimnasios  pokeparadas  mochila     tiempo  distancia_original  \\\n",
       "0         10           20        5  1002000.0             5928.23   \n",
       "1         10           22        5  1289000.0             7332.09   \n",
       "\n",
       "   distancia_final  cantidad_de_mejoras  iteraciones  gim_sacados  \n",
       "0          5928.23                    0            5            5  \n",
       "1          5275.76                    1            5            5  "
      ]
     },
     "execution_count": 3,
     "metadata": {},
     "output_type": "execute_result"
    }
   ],
   "source": [
    "df.head(2)"
   ]
  },
  {
   "cell_type": "code",
   "execution_count": 4,
   "metadata": {
    "collapsed": false
   },
   "outputs": [
    {
     "data": {
      "text/html": [
       "<div>\n",
       "<table border=\"1\" class=\"dataframe\">\n",
       "  <thead>\n",
       "    <tr style=\"text-align: right;\">\n",
       "      <th></th>\n",
       "      <th>distancia_original</th>\n",
       "      <th>distancia_final</th>\n",
       "    </tr>\n",
       "    <tr>\n",
       "      <th>gim_sacados</th>\n",
       "      <th></th>\n",
       "      <th></th>\n",
       "    </tr>\n",
       "  </thead>\n",
       "  <tbody>\n",
       "    <tr>\n",
       "      <th>5</th>\n",
       "      <td>43153.836286</td>\n",
       "      <td>32613.887918</td>\n",
       "    </tr>\n",
       "    <tr>\n",
       "      <th>10</th>\n",
       "      <td>43153.836286</td>\n",
       "      <td>32717.909449</td>\n",
       "    </tr>\n",
       "    <tr>\n",
       "      <th>15</th>\n",
       "      <td>43153.836286</td>\n",
       "      <td>32567.424224</td>\n",
       "    </tr>\n",
       "  </tbody>\n",
       "</table>\n",
       "</div>"
      ],
      "text/plain": [
       "             distancia_original  distancia_final\n",
       "gim_sacados                                     \n",
       "5                  43153.836286     32613.887918\n",
       "10                 43153.836286     32717.909449\n",
       "15                 43153.836286     32567.424224"
      ]
     },
     "execution_count": 4,
     "metadata": {},
     "output_type": "execute_result"
    }
   ],
   "source": [
    "new_df = df.groupby(['gim_sacados'])[['distancia_original','distancia_final']].mean()\n",
    "\n",
    "new_df\n",
    "\n",
    "# new_df = df.groupby(['gimnasios','gim_sacados','iteraciones'])[['distancia_original','distancia_final']].mean()\n",
    "\n",
    "# new_df.head(30)"
   ]
  },
  {
   "cell_type": "code",
   "execution_count": 70,
   "metadata": {
    "collapsed": false
   },
   "outputs": [
    {
     "data": {
      "text/html": [
       "<div>\n",
       "<table border=\"1\" class=\"dataframe\">\n",
       "  <thead>\n",
       "    <tr style=\"text-align: right;\">\n",
       "      <th></th>\n",
       "      <th></th>\n",
       "      <th>distancia_original</th>\n",
       "      <th>distancia_final</th>\n",
       "    </tr>\n",
       "    <tr>\n",
       "      <th>gim_sacados</th>\n",
       "      <th>iteraciones</th>\n",
       "      <th></th>\n",
       "      <th></th>\n",
       "    </tr>\n",
       "  </thead>\n",
       "  <tbody>\n",
       "    <tr>\n",
       "      <th rowspan=\"7\" valign=\"top\">5</th>\n",
       "      <th>5</th>\n",
       "      <td>43153.836286</td>\n",
       "      <td>33205.793429</td>\n",
       "    </tr>\n",
       "    <tr>\n",
       "      <th>10</th>\n",
       "      <td>43153.836286</td>\n",
       "      <td>32928.799571</td>\n",
       "    </tr>\n",
       "    <tr>\n",
       "      <th>15</th>\n",
       "      <td>43153.836286</td>\n",
       "      <td>32737.159571</td>\n",
       "    </tr>\n",
       "    <tr>\n",
       "      <th>20</th>\n",
       "      <td>43153.836286</td>\n",
       "      <td>32467.516000</td>\n",
       "    </tr>\n",
       "    <tr>\n",
       "      <th>30</th>\n",
       "      <td>43153.836286</td>\n",
       "      <td>32441.126429</td>\n",
       "    </tr>\n",
       "    <tr>\n",
       "      <th>40</th>\n",
       "      <td>43153.836286</td>\n",
       "      <td>32292.598286</td>\n",
       "    </tr>\n",
       "    <tr>\n",
       "      <th>50</th>\n",
       "      <td>43153.836286</td>\n",
       "      <td>32224.222143</td>\n",
       "    </tr>\n",
       "  </tbody>\n",
       "</table>\n",
       "</div>"
      ],
      "text/plain": [
       "                         distancia_original  distancia_final\n",
       "gim_sacados iteraciones                                     \n",
       "5           5                  43153.836286     33205.793429\n",
       "            10                 43153.836286     32928.799571\n",
       "            15                 43153.836286     32737.159571\n",
       "            20                 43153.836286     32467.516000\n",
       "            30                 43153.836286     32441.126429\n",
       "            40                 43153.836286     32292.598286\n",
       "            50                 43153.836286     32224.222143"
      ]
     },
     "execution_count": 70,
     "metadata": {},
     "output_type": "execute_result"
    }
   ],
   "source": [
    "new_df = df.groupby(['gim_sacados','iteraciones'])[['distancia_original','distancia_final']].mean()\n",
    "\n",
    "new_df = new_df.head(7)\n",
    "\n",
    "new_df"
   ]
  },
  {
   "cell_type": "code",
   "execution_count": 68,
   "metadata": {
    "collapsed": false
   },
   "outputs": [
    {
     "data": {
      "image/png": "[encoded data removed]",
      "text/plain": [
       "<matplotlib.figure.Figure at 0x11c05c2d0>"
      ]
     },
     "metadata": {},
     "output_type": "display_data"
    }
   ],
   "source": [
    "new_df2 = df.groupby(['gim_sacados','iteraciones'])[['tiempo']].mean()\n",
    "\n",
    "new_df2 = new_df2.head(7)\n",
    "\n",
    "new_df2.reset_index(inplace=True)\n",
    "\n",
    "new_df2 = new_df2[['iteraciones','tiempo']]\n",
    "\n",
    "new_df2.plot(x='iteraciones', y='tiempo')\n",
    "\n",
    "plt.xlabel('Iteraciones')\n",
    "plt.ylabel('Tiempo (nano segundos)')\n",
    "L=plt.legend(loc='upper left')\n",
    "L.get_texts()[0].set_text(u'Tiempo ejecución')\n",
    "plt.show()\n"
   ]
  },
  {
   "cell_type": "code",
   "execution_count": 85,
   "metadata": {
    "collapsed": false
   },
   "outputs": [
    {
     "data": {
      "image/png": "[encoded data removed]",
      "text/plain": [
       "<matplotlib.figure.Figure at 0x11b44ed50>"
      ]
     },
     "metadata": {},
     "output_type": "display_data"
    }
   ],
   "source": [
    "new_df = df.groupby(['gim_sacados','iteraciones'])[['distancia_original','distancia_final']].mean()\n",
    "new_df = new_df.head(7)\n",
    "new_df.reset_index(inplace=True)\n",
    "new_df = new_df[['iteraciones','distancia_original','distancia_final']]\n",
    "\n",
    "new_df2 = df.groupby(['gim_sacados','iteraciones'])[['tiempo']].mean()\n",
    "new_df2 = new_df2.head(7)\n",
    "new_df2.reset_index(inplace=True)\n",
    "new_df2 = new_df2[['iteraciones','tiempo']]\n",
    "\n",
    "new_df['tiempo'] = new_df2['tiempo']\n",
    "\n",
    "new_df['mejora'] = new_df['distancia_original'] - new_df['distancia_final']\n",
    "\n",
    "new_df['porcentaje'] = new_df['mejora'] / new_df['distancia_original']\n",
    "\n",
    "new_df['relacion'] = new_df['mejora'] / new_df['tiempo']\n",
    "\n",
    "new_df.plot(x='iteraciones', y='relacion')\n",
    "\n",
    "plt.xlabel('Iteraciones')\n",
    "plt.ylabel(u'Relación mejora-tiempo')\n",
    "L=plt.legend(loc='upper left')\n",
    "L.get_texts()[0].set_text(u'Relación mejora vs tiempo')\n",
    "plt.show()"
   ]
  },
  {
   "cell_type": "code",
   "execution_count": 87,
   "metadata": {
    "collapsed": false
   },
   "outputs": [
    {
     "data": {
      "text/html": [
       "<div>\n",
       "<table border=\"1\" class=\"dataframe\">\n",
       "  <thead>\n",
       "    <tr style=\"text-align: right;\">\n",
       "      <th></th>\n",
       "      <th>tiempo</th>\n",
       "    </tr>\n",
       "    <tr>\n",
       "      <th>gim_sacados</th>\n",
       "      <th></th>\n",
       "    </tr>\n",
       "  </thead>\n",
       "  <tbody>\n",
       "    <tr>\n",
       "      <th>5</th>\n",
       "      <td>2.894757e+09</td>\n",
       "    </tr>\n",
       "    <tr>\n",
       "      <th>10</th>\n",
       "      <td>2.847466e+09</td>\n",
       "    </tr>\n",
       "    <tr>\n",
       "      <th>15</th>\n",
       "      <td>2.825297e+09</td>\n",
       "    </tr>\n",
       "  </tbody>\n",
       "</table>\n",
       "</div>"
      ],
      "text/plain": [
       "                   tiempo\n",
       "gim_sacados              \n",
       "5            2.894757e+09\n",
       "10           2.847466e+09\n",
       "15           2.825297e+09"
      ]
     },
     "execution_count": 87,
     "metadata": {},
     "output_type": "execute_result"
    }
   ],
   "source": [
    "new_df = df.groupby(['gim_sacados'])[['tiempo']].mean()\n",
    "\n",
    "new_df"
   ]
  }
 ],
 "metadata": {
  "kernelspec": {
   "display_name": "Python 2",
   "language": "python",
   "name": "python2"
  },
  "language_info": {
   "codemirror_mode": {
    "name": "ipython",
    "version": 2
   },
   "file_extension": ".py",
   "mimetype": "text/x-python",
   "name": "python",
   "nbconvert_exporter": "python",
   "pygments_lexer": "ipython2",
   "version": "2.7.12"
  }
 },
 "nbformat": 4,
 "nbformat_minor": 0
}
