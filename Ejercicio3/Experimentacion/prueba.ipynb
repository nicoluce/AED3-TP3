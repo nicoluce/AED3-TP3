{
 "cells": [
  {
   "cell_type": "code",
   "execution_count": 7,
   "metadata": {
    "collapsed": false
   },
   "outputs": [],
   "source": [
    "import pandas as pd\n",
    "import matplotlib.pyplot as plt\n",
    "import random\n",
    "import seaborn as sns"
   ]
  },
  {
   "cell_type": "code",
   "execution_count": 134,
   "metadata": {
    "collapsed": false
   },
   "outputs": [
    {
     "data": {
      "text/html": [
       "<div>\n",
       "<table border=\"1\" class=\"dataframe\">\n",
       "  <thead>\n",
       "    <tr style=\"text-align: right;\">\n",
       "      <th></th>\n",
       "      <th>opcion_greedy</th>\n",
       "      <th>opcion_busqueda</th>\n",
       "      <th>cant_gim</th>\n",
       "      <th>cant_gim_mismo_costo</th>\n",
       "      <th>cant_poke</th>\n",
       "      <th>cap_mochila</th>\n",
       "      <th>tiempo_armado_grafo</th>\n",
       "      <th>tiempo_greedy</th>\n",
       "      <th>distancia_camino_greedy</th>\n",
       "      <th>tiempo_busqueda</th>\n",
       "      <th>distancia_camino</th>\n",
       "      <th>cant_mejoras</th>\n",
       "      <th>tiempo_swap</th>\n",
       "      <th>vecinos_prom</th>\n",
       "    </tr>\n",
       "  </thead>\n",
       "  <tbody>\n",
       "    <tr>\n",
       "      <th>0</th>\n",
       "      <td>1</td>\n",
       "      <td>0.0</td>\n",
       "      <td>10.0</td>\n",
       "      <td>1.0</td>\n",
       "      <td>42.0</td>\n",
       "      <td>30.0</td>\n",
       "      <td>867685.0</td>\n",
       "      <td>223932.0</td>\n",
       "      <td>56769.376618</td>\n",
       "      <td>6279339.0</td>\n",
       "      <td>54889.736666</td>\n",
       "      <td>7.0</td>\n",
       "      <td>6121301.0</td>\n",
       "      <td>3634.0</td>\n",
       "    </tr>\n",
       "    <tr>\n",
       "      <th>1</th>\n",
       "      <td>1</td>\n",
       "      <td>0.0</td>\n",
       "      <td>10.0</td>\n",
       "      <td>1.0</td>\n",
       "      <td>42.0</td>\n",
       "      <td>30.0</td>\n",
       "      <td>867685.0</td>\n",
       "      <td>218366.0</td>\n",
       "      <td>56769.376618</td>\n",
       "      <td>5696848.0</td>\n",
       "      <td>54889.736666</td>\n",
       "      <td>7.0</td>\n",
       "      <td>5577715.0</td>\n",
       "      <td>3634.0</td>\n",
       "    </tr>\n",
       "  </tbody>\n",
       "</table>\n",
       "</div>"
      ],
      "text/plain": [
       "  opcion_greedy  opcion_busqueda  cant_gim  cant_gim_mismo_costo  cant_poke  \\\n",
       "0             1              0.0      10.0                   1.0       42.0   \n",
       "1             1              0.0      10.0                   1.0       42.0   \n",
       "\n",
       "   cap_mochila  tiempo_armado_grafo  tiempo_greedy  distancia_camino_greedy  \\\n",
       "0         30.0             867685.0       223932.0             56769.376618   \n",
       "1         30.0             867685.0       218366.0             56769.376618   \n",
       "\n",
       "   tiempo_busqueda  distancia_camino  cant_mejoras  tiempo_swap  vecinos_prom  \n",
       "0        6279339.0      54889.736666           7.0    6121301.0        3634.0  \n",
       "1        5696848.0      54889.736666           7.0    5577715.0        3634.0  "
      ]
     },
     "execution_count": 134,
     "metadata": {},
     "output_type": "execute_result"
    }
   ],
   "source": [
    "SET1='W5000-H5000-MP30-Mochila30-PP1'\n",
    "SET2='W5000-H5000-MP30-Mochila30-PP2'\n",
    "SET3='W5000-H5000-MP30-Mochila30-PP3'\n",
    "SET4='W500-H500-MP30-Mochila30-PP2'\n",
    "SET5='W1000-H1000-MP30-Mochila30-PP2'\n",
    "SET6='W1000-H1000-MP10-Mochila30-PP2'\n",
    "SET7='W1000-H1000-MP5-Mochila5-PP2'\n",
    "\n",
    "df = pd.read_csv('data_set/out-'+SET1+'.csv')\n",
    "df.head(2)"
   ]
  },
  {
   "cell_type": "code",
   "execution_count": 64,
   "metadata": {
    "collapsed": false
   },
   "outputs": [
    {
     "data": {
      "image/png": "[encoded data removed]",
      "text/plain": [
       "<matplotlib.figure.Figure at 0x11d13f410>"
      ]
     },
     "metadata": {},
     "output_type": "display_data"
    }
   ],
   "source": [
    "%matplotlib inline\n",
    "df.groupby('cant_gim').mean()['tiempo_greedy'].plot()\n",
    "df.groupby('cant_gim').mean()['tiempo_busqueda'].plot()\n",
    "plt.show()"
   ]
  },
  {
   "cell_type": "code",
   "execution_count": 135,
   "metadata": {
    "collapsed": false
   },
   "outputs": [
    {
     "data": {
      "image/png": "[encoded data removed]",
      "text/plain": [
       "<matplotlib.figure.Figure at 0x11dcd9e10>"
      ]
     },
     "metadata": {},
     "output_type": "display_data"
    }
   ],
   "source": [
    "new_df = df.groupby(['opcion_busqueda','cant_gim']).mean()[['distancia_camino_greedy','distancia_camino']]\n",
    "\n",
    "new_df['mejora'] = new_df['distancia_camino_greedy']-new_df['distancia_camino']\n",
    "new_df['porcentaje'] = (new_df['mejora']*100)/new_df['distancia_camino_greedy']\n",
    "\n",
    "data = new_df.ix[0][['porcentaje']].rename(columns={'porcentaje': 'porcentaje swap poke'})\n",
    "\n",
    "data['porcentaje swap gimasios'] = new_df.ix[1][['porcentaje']]\n",
    "\n",
    "data.plot(kind='bar')\n",
    "sns.plt.show()\n",
    "\n",
    "# new_df[['distancia_camino_greedy','distancia_camino']].plot(kind='bar')\n",
    "# sns.plt.show()\n",
    "\n",
    "# sns.barplot(data=new_df)\n",
    "# sns.plt.show()"
   ]
  },
  {
   "cell_type": "code",
   "execution_count": null,
   "metadata": {
    "collapsed": true
   },
   "outputs": [],
   "source": []
  }
 ],
 "metadata": {
  "kernelspec": {
   "display_name": "Python 2",
   "language": "python",
   "name": "python2"
  },
  "language_info": {
   "codemirror_mode": {
    "name": "ipython",
    "version": 2
   },
   "file_extension": ".py",
   "mimetype": "text/x-python",
   "name": "python",
   "nbconvert_exporter": "python",
   "pygments_lexer": "ipython2",
   "version": "2.7.12"
  }
 },
 "nbformat": 4,
 "nbformat_minor": 0
}
